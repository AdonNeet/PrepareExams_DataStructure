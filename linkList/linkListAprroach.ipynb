{
 "cells": [
  {
   "cell_type": "markdown",
   "id": "c45a1462-1053-4363-9bba-f0383f5687f6",
   "metadata": {},
   "source": [
    "# Linked List Approach\n"
   ]
  },
  {
   "cell_type": "markdown",
   "id": "3b8a28f5-db37-46a3-bd1b-e4a93cafdfc9",
   "metadata": {},
   "source": [
    "## Single Linked List"
   ]
  },
  {
   "cell_type": "code",
   "execution_count": 1,
   "id": "5e6d5999-da02-4a09-a2f2-bd48f0eee161",
   "metadata": {},
   "outputs": [],
   "source": [
    "# Node class\n",
    "class Node:\n",
    "\n",
    "    # Function to initialize the node object\n",
    "    def __init__(self, data):\n",
    "        self.data = data  # Assign data\n",
    "        self.next = None  # Initialize next as null\n",
    "\n",
    "# Singly Linked List class\n",
    "class LinkedList:\n",
    "\n",
    "    # Function to initialize the Linked List object\n",
    "    def __init__(self):\n",
    "        self.head = None\n"
   ]
  },
  {
   "cell_type": "code",
   "execution_count": 3,
   "id": "c51d23b7-d9ee-4a3c-a31b-783c74ec6da3",
   "metadata": {},
   "outputs": [],
   "source": [
    "class Node:\n",
    "  def __init__(self, data):\n",
    "    self.data = data\n",
    "    self.next = None\n",
    " \n",
    "class SinglyLinkedList:\n",
    "  def __init__(self):\n",
    "    self.head = None\n",
    "     \n",
    "  def add_node(self, data):\n",
    "    new_node = Node(data)\n",
    "    new_node.next = self.head\n",
    "    self.head = new_node"
   ]
  },
  {
   "cell_type": "code",
   "execution_count": 9,
   "id": "1345a7b1-516b-43d5-8dc3-479a3a7b158e",
   "metadata": {},
   "outputs": [
    {
     "name": "stdout",
     "output_type": "stream",
     "text": [
      "Only from first to end node:\n",
      "1 2 3 \n"
     ]
    }
   ],
   "source": [
    "# structure of Node \n",
    "class Node: \n",
    "    def __init__(self, data): \n",
    "        self.data = data \n",
    "        self.next = None\n",
    "  \n",
    "  \n",
    "class LinkedList: \n",
    "    def __init__(self): \n",
    "        self.head = None\n",
    "        self.last_node = None\n",
    "  \n",
    "    # function to add elements to linked list \n",
    "    def append(self, data): \n",
    "        # if linked list is empty then last_node will be none so in if condition head will be created \n",
    "        if self.last_node is None: \n",
    "            self.head = Node(data) \n",
    "            self.last_node = self.head \n",
    "        # adding node to the tail of linked list \n",
    "        else: \n",
    "            self.last_node.next = Node(data) \n",
    "            self.last_node = self.last_node.next\n",
    "  \n",
    "# function to print the content of linked list \n",
    "    def display(self): \n",
    "        current = self.head \n",
    "      # traversing the linked list \n",
    "        while current is not None: \n",
    "          # at each node printing its data \n",
    "            print(current.data, end=' ') \n",
    "           # giving current next node \n",
    "            current = current.next\n",
    "        print() \n",
    "  \n",
    "# Driver code \n",
    "if __name__ == '__main__': \n",
    "    L = LinkedList() \n",
    "    # adding elements to the linked list \n",
    "    L.append(1) \n",
    "    L.append(2) \n",
    "    L.append(3) \n",
    "    print(\"Only from first to end node:\")\n",
    "    L.display() "
   ]
  },
  {
   "cell_type": "markdown",
   "id": "8ff7bd1c-df2c-49c2-af7d-bd38c0657840",
   "metadata": {},
   "source": [
    "## Doubly Linked List"
   ]
  },
  {
   "cell_type": "code",
   "execution_count": 2,
   "id": "417a2596-cff0-4204-83e7-4a098d7e912a",
   "metadata": {},
   "outputs": [],
   "source": [
    "# Node of a doubly linked list\n",
    "class Node:\n",
    "    def __init__(self, next=None, prev=None, data=None):\n",
    "        self.next = next  # reference to next node in DLL\n",
    "        self.prev = prev  # reference to previous node in DLL\n",
    "        self.data = data\n"
   ]
  },
  {
   "cell_type": "code",
   "execution_count": 4,
   "id": "99036fc8-8daa-42e7-9cdf-741bf98f0528",
   "metadata": {},
   "outputs": [],
   "source": [
    "class Node:\n",
    "  def __init__(self, data):\n",
    "    self.data = data\n",
    "    self.next = None\n",
    "    self.prev = None\n",
    " \n",
    "class DoublyLinkedList:\n",
    "  def __init__(self):\n",
    "    self.head = None\n",
    "     \n",
    "  def add_node(self, data):\n",
    "    new_node = Node(data)\n",
    "    new_node.next = self.head\n",
    "    if self.head is not None:\n",
    "      self.head.prev = new_node\n",
    "    self.head = new_node"
   ]
  },
  {
   "cell_type": "code",
   "execution_count": 7,
   "id": "89594a6f-6326-4d58-b99b-53c58aae9ef9",
   "metadata": {},
   "outputs": [
    {
     "name": "stdout",
     "output_type": "stream",
     "text": [
      "Left To Right:\n",
      "1 2 3 4 \n",
      "Right To Left:\n",
      "4 3 2 1 \n"
     ]
    }
   ],
   "source": [
    "# Python3 program to illustrate \n",
    "# creation and traversal of \n",
    "# Doubly Linked List \n",
    "  \n",
    "# structure of Node \n",
    "class Node: \n",
    "    def __init__(self, data): \n",
    "        self.previous = None\n",
    "        self.data = data \n",
    "        self.next = None\n",
    "  \n",
    "  \n",
    "class DoublyLinkedList: \n",
    "    def __init__(self): \n",
    "        self.head = None\n",
    "        self.start_node = None\n",
    "        self.last_node = None\n",
    "  \n",
    "    # function to add elements to doubly linked list \n",
    "    def append(self, data): \n",
    "        # is doubly linked list is empty then last_node will be none so in if condition head will be created \n",
    "        if self.last_node is None: \n",
    "            self.head = Node(data) \n",
    "            self.last_node = self.head \n",
    "        # adding node to the tail of doubly linked list \n",
    "        else: \n",
    "            new_node = Node(data) \n",
    "            self.last_node.next = new_node \n",
    "            new_node.previous = self.last_node \n",
    "            new_node.next = None\n",
    "            self.last_node = new_node \n",
    "  \n",
    "    # function to printing and traversing the content of doubly linked list from left to right and right to left \n",
    "    def display(self, Type): \n",
    "        if Type == 'Left_To_Right': \n",
    "            current = self.head \n",
    "            while current is not None: \n",
    "                print(current.data, end=' ') \n",
    "                current = current.next\n",
    "            print() \n",
    "        else: \n",
    "            current = self.last_node \n",
    "            while current is not None: \n",
    "                print(current.data, end=' ') \n",
    "                current = current.previous \n",
    "            print() \n",
    "  \n",
    "# Driver code \n",
    "if __name__ == '__main__': \n",
    "    L = DoublyLinkedList() \n",
    "    L.append(1) \n",
    "    L.append(2) \n",
    "    L.append(3) \n",
    "    L.append(4) \n",
    "    print(\"Left To Right:\")\n",
    "    L.display('Left_To_Right') \n",
    "    print(\"Right To Left:\")\n",
    "    L.display('Right_To_Left')"
   ]
  },
  {
   "cell_type": "markdown",
   "id": "7dc33f0c-f6f2-4cef-8cc6-9bf4bf3fd3b9",
   "metadata": {},
   "source": [
    "<br>\n",
    "\n",
    "# Basic Case Inserting and Deleting"
   ]
  },
  {
   "cell_type": "markdown",
   "id": "c7e7ecc5-f294-4a0a-a000-7d435b306add",
   "metadata": {},
   "source": [
    "# Single Linked List"
   ]
  },
  {
   "cell_type": "markdown",
   "id": "afe5d848-075f-4468-aeef-cf1d58a40b9e",
   "metadata": {},
   "source": [
    "## Transversal"
   ]
  },
  {
   "cell_type": "code",
   "execution_count": 16,
   "id": "190acbb0-3760-4750-902a-84dbf40e0b46",
   "metadata": {},
   "outputs": [
    {
     "name": "stdout",
     "output_type": "stream",
     "text": [
      "1\n",
      "2\n",
      "3\n",
      "\n"
     ]
    }
   ],
   "source": [
    "# Define the Node class for the linked list\n",
    "class Node:\n",
    "    def __init__(self, data):\n",
    "        self.data = data\n",
    "        self.next = None\n",
    "\n",
    "# Function to traverse and print the elements of the linked list\n",
    "\n",
    "\n",
    "def traverse_linked_list(head):\n",
    "    # Start from the head of the linked list\n",
    "    current = head\n",
    "\n",
    "    # Traverse the linked list until reaching the end (None)\n",
    "    while current is not None:\n",
    "        # Print the data of the current node followed by a space\n",
    "        print(current.data),\n",
    "\n",
    "        # Move to the next node\n",
    "        current = current.next\n",
    "\n",
    "    print()  # Print a new line after traversing the linked list\n",
    "\n",
    "# Example usage:\n",
    "# Assuming the linked list is already constructed\n",
    "\n",
    "\n",
    "# Create nodes\n",
    "head = Node(1)\n",
    "second = Node(2)\n",
    "third = Node(3)\n",
    "\n",
    "# Connect nodes\n",
    "head.next = second\n",
    "second.next = third\n",
    "\n",
    "# Call the traverse_linked_list function to print the linked list elements\n",
    "traverse_linked_list(head)\n"
   ]
  },
  {
   "cell_type": "markdown",
   "id": "08ff7817-6918-4cfd-a645-22a1dc09149c",
   "metadata": {},
   "source": [
    "## Searcing"
   ]
  },
  {
   "cell_type": "code",
   "execution_count": 17,
   "id": "ccea480a-b961-4b08-95c5-58652733976e",
   "metadata": {},
   "outputs": [
    {
     "name": "stdout",
     "output_type": "stream",
     "text": [
      "Are 2 in here?\n",
      "True\n",
      "Are 4 in here?\n",
      "False\n"
     ]
    }
   ],
   "source": [
    "def searchLinkedList(heads, target):\n",
    "    while (heads != None):\n",
    "        if heads.data == target:\n",
    "            return True  # When found the num\n",
    "        else: \n",
    "            heads = heads.next\n",
    "    return False # When not found\n",
    "\n",
    "print(\"Are 2 in here?\")\n",
    "print(str(searchLinkedList(head, 2)))\n",
    "      \n",
    "print(\"Are 4 in here?\")\n",
    "print(str(searchLinkedList(head, 4)))"
   ]
  },
  {
   "cell_type": "markdown",
   "id": "8578b0b5-8c35-4eeb-8691-46aa5d8dd9c3",
   "metadata": {},
   "source": [
    "## Length of Link"
   ]
  },
  {
   "cell_type": "code",
   "execution_count": 18,
   "id": "6940bbc8-5642-41c1-9ec6-2a79423dd7ee",
   "metadata": {},
   "outputs": [
    {
     "data": {
      "text/plain": [
       "3"
      ]
     },
     "execution_count": 18,
     "metadata": {},
     "output_type": "execute_result"
    }
   ],
   "source": [
    "def findLength(heads): \n",
    "    l = 0\n",
    "\n",
    "    while(heads != None):\n",
    "        l += 1\n",
    "        heads = heads.next\n",
    "    return l\n",
    "\n",
    "findLength(head)"
   ]
  },
  {
   "cell_type": "markdown",
   "id": "53ae5c17-dcf2-407f-9fd0-fb8f680d384a",
   "metadata": {},
   "source": [
    "## Insertion"
   ]
  },
  {
   "cell_type": "markdown",
   "id": "c522c5a8-e59d-4209-a442-41b2d2da74c8",
   "metadata": {},
   "source": [
    "### > Front of Link"
   ]
  },
  {
   "cell_type": "code",
   "execution_count": null,
   "id": "da9b72f3-4224-4a5b-a988-543b218b4e1d",
   "metadata": {},
   "outputs": [],
   "source": []
  },
  {
   "cell_type": "markdown",
   "id": "f241f982-8d15-49bd-9b60-806249be55b3",
   "metadata": {},
   "source": [
    "### > Middle of Link"
   ]
  },
  {
   "cell_type": "code",
   "execution_count": null,
   "id": "48eb7cfd-f8d5-4849-992b-05500dfe74cd",
   "metadata": {},
   "outputs": [],
   "source": []
  },
  {
   "cell_type": "markdown",
   "id": "fb6fa540-7caa-4249-a1ea-e2168cb1f7a2",
   "metadata": {},
   "source": [
    "### > End of Link"
   ]
  },
  {
   "cell_type": "code",
   "execution_count": null,
   "id": "eb32715a-cc0f-4852-8de7-06022ae99300",
   "metadata": {},
   "outputs": [],
   "source": []
  }
 ],
 "metadata": {
  "kernelspec": {
   "display_name": "Python 3 (ipykernel)",
   "language": "python",
   "name": "python3"
  },
  "language_info": {
   "codemirror_mode": {
    "name": "ipython",
    "version": 3
   },
   "file_extension": ".py",
   "mimetype": "text/x-python",
   "name": "python",
   "nbconvert_exporter": "python",
   "pygments_lexer": "ipython3",
   "version": "3.11.8"
  },
  "widgets": {
   "application/vnd.jupyter.widget-state+json": {
    "state": {},
    "version_major": 2,
    "version_minor": 0
   }
  }
 },
 "nbformat": 4,
 "nbformat_minor": 5
}
