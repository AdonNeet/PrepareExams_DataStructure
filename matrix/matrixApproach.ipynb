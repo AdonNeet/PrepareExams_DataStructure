{
 "cells": [
  {
   "cell_type": "markdown",
   "id": "61372969-cc13-4718-acbd-6a69f35e532c",
   "metadata": {},
   "source": [
    "# Matrix Approach"
   ]
  },
  {
   "cell_type": "markdown",
   "id": "5d0d739a-1725-44d2-86aa-a3a59f1e45e1",
   "metadata": {},
   "source": [
    "## Init of Matrix"
   ]
  },
  {
   "cell_type": "code",
   "execution_count": 1,
   "id": "da42b442-a984-4d64-b0b4-279f3ac31585",
   "metadata": {},
   "outputs": [
    {
     "name": "stdout",
     "output_type": "stream",
     "text": [
      "Matrix = [[1, 2, 3, 4], [5, 6, 7, 8], [9, 10, 11, 12]]\n"
     ]
    }
   ],
   "source": [
    "matrix = [[1, 2, 3, 4], \n",
    "\t[5, 6, 7, 8],\n",
    "\t[9, 10, 11, 12]]\n",
    "\n",
    "print(\"Matrix =\", matrix)\n"
   ]
  },
  {
   "cell_type": "code",
   "execution_count": 3,
   "id": "7cd7d139-7a7a-4510-97f5-35580d7bf3b4",
   "metadata": {},
   "outputs": [
    {
     "name": "stdin",
     "output_type": "stream",
     "text": [
      "Enter the number of rows: 3\n",
      "Enter the number of columns: 3\n"
     ]
    },
    {
     "name": "stdout",
     "output_type": "stream",
     "text": [
      "Enter the entries row wise:\n"
     ]
    },
    {
     "name": "stdin",
     "output_type": "stream",
     "text": [
      " 1\n",
      " 2\n",
      " 3\n",
      " 4\n",
      " 5\n",
      " 6\n",
      " 7\n",
      " 8\n",
      " 9\n"
     ]
    },
    {
     "name": "stdout",
     "output_type": "stream",
     "text": [
      "1 2 3 \n",
      "4 5 6 \n",
      "7 8 9 \n"
     ]
    }
   ],
   "source": [
    "Row = int(input(\"Enter the number of rows:\"))\n",
    "Column = int(input(\"Enter the number of columns:\"))\n",
    "\n",
    "# Initialize matrix\n",
    "matrix = []\n",
    "print(\"Enter the entries row wise:\")\n",
    "\n",
    "# For user input\n",
    "# A for loop for row entries\n",
    "for row in range(Row): \n",
    "\ta = []\n",
    "\t# A for loop for column entries\n",
    "\tfor column in range(Column): \n",
    "\t\ta.append(int(input()))\n",
    "\tmatrix.append(a)\n",
    "\n",
    "# For printing the matrix\n",
    "for row in range(Row):\n",
    "\tfor column in range(Column):\n",
    "\t\tprint(matrix[row][column], end=\" \")\n",
    "\tprint()\n"
   ]
  },
  {
   "cell_type": "markdown",
   "id": "181a028e-cff9-41ac-a01b-de287f513e2b",
   "metadata": {},
   "source": [
    "## Making matrix with comprehension"
   ]
  },
  {
   "cell_type": "code",
   "execution_count": 4,
   "id": "ce8729b7-24f5-4e84-9a8f-11bf31df0286",
   "metadata": {},
   "outputs": [
    {
     "name": "stdout",
     "output_type": "stream",
     "text": [
      "[[0, 1, 2, 3], [0, 1, 2, 3], [0, 1, 2, 3], [0, 1, 2, 3]]\n"
     ]
    }
   ],
   "source": [
    "matrix = [[column for column in range(4)] for row in range(4)]\n",
    "\n",
    "print(matrix)\n"
   ]
  },
  {
   "cell_type": "markdown",
   "id": "e849c9ff-62f1-4fbb-b427-46ae872dabf9",
   "metadata": {},
   "source": [
    "## Change the element of matrix"
   ]
  },
  {
   "cell_type": "code",
   "execution_count": 5,
   "id": "847a1e39-3711-421f-a109-b148d01edaf9",
   "metadata": {},
   "outputs": [
    {
     "name": "stdout",
     "output_type": "stream",
     "text": [
      "[[1, 2, 3], [4, 11, 6], [7, 8, 9]]\n"
     ]
    }
   ],
   "source": [
    "X = [[1, 2, 3], [4, 5, 6], [7, 8, 9]]\n",
    "\n",
    "row = column = 1\n",
    "\n",
    "X[row][column] = 11\n",
    "\n",
    "print(X)\n"
   ]
  },
  {
   "cell_type": "code",
   "execution_count": 6,
   "id": "195b4507-6933-4d4c-90cf-cb78a5e9fd8c",
   "metadata": {},
   "outputs": [
    {
     "name": "stdout",
     "output_type": "stream",
     "text": [
      "[[1, 2, 3], [4, 11, 21], [7, 8, 9]]\n"
     ]
    }
   ],
   "source": [
    "row = -2\n",
    "column = -1\n",
    "\n",
    "X[row][column] = 21\n",
    "\n",
    "print(X)\n"
   ]
  },
  {
   "cell_type": "markdown",
   "id": "21f64b93-7d99-45bb-858c-7949fb0fce40",
   "metadata": {},
   "source": [
    "## Sum and Sub"
   ]
  },
  {
   "cell_type": "markdown",
   "id": "d588deb8-2e17-437c-bfa7-182472990620",
   "metadata": {},
   "source": [
    "## Sum (+) with loop approach"
   ]
  },
  {
   "cell_type": "code",
   "execution_count": 7,
   "id": "93285f31-afe1-4102-bc9e-46af21ef9ffb",
   "metadata": {},
   "outputs": [
    {
     "name": "stdout",
     "output_type": "stream",
     "text": [
      "[10, 10, 10]\n",
      "[10, 10, 10]\n",
      "[10, 10, 10]\n"
     ]
    }
   ],
   "source": [
    "# Program to add two matrices using nested loop\n",
    "X = [[1, 2, 3],[4, 5, 6], [7, 8, 9]]\n",
    "Y = [[9, 8, 7], [6, 5, 4], [3, 2, 1]]\n",
    "\n",
    "result = [[0, 0, 0], [0, 0, 0], [0, 0, 0]]\n",
    "\n",
    "# iterate through rows\n",
    "for row in range(len(X)):\n",
    "\n",
    "\t# iterate through columns\n",
    "\tfor column in range(len(X[0])):\n",
    "\t\tresult[row][column] = X[row][column]+ Y[row][column]\n",
    "\n",
    "for r in result:\n",
    "\tprint(r)\n"
   ]
  },
  {
   "cell_type": "markdown",
   "id": "8583781a-72de-48d1-a39e-0b6f83f807ec",
   "metadata": {},
   "source": [
    "## Sum and Sub with comprehension approach"
   ]
  },
  {
   "cell_type": "code",
   "execution_count": 8,
   "id": "028f6abc-5181-4a6e-8923-e37e85db2572",
   "metadata": {},
   "outputs": [
    {
     "name": "stdout",
     "output_type": "stream",
     "text": [
      "Matrix Addition\n",
      "[10, 10, 10]\n",
      "[10, 10, 10]\n",
      "[10, 10, 10]\n",
      "\n",
      "Matrix Subtraction\n",
      "[-8, -6, -4]\n",
      "[-2, 0, 2]\n",
      "[4, 6, 8]\n"
     ]
    }
   ],
   "source": [
    "Add_result = [[X[row][column] + Y[row][column]\n",
    "\t\t\tfor column in range(len(X[0]))] \n",
    "\t\t\tfor row in range(len(X))]\n",
    "Sub_result = [[X[row][column] - Y[row][column]\n",
    "\t\t\tfor column in range(len(X[0]))] \n",
    "\t\t\tfor row in range(len(X))]\n",
    "\n",
    "print(\"Matrix Addition\")\n",
    "for r in Add_result:\n",
    "\tprint(r)\n",
    "\n",
    "print(\"\\nMatrix Subtraction\")\n",
    "for r in Sub_result:\n",
    "\tprint(r)\n"
   ]
  },
  {
   "cell_type": "markdown",
   "id": "4583459f-0c1a-4d67-b849-e2f04f85872b",
   "metadata": {},
   "source": [
    "**Note: They must have same dimension**"
   ]
  },
  {
   "cell_type": "markdown",
   "id": "51bbdde3-71ce-4aba-95a3-73987735403e",
   "metadata": {},
   "source": [
    "## Multiply and Divide (loop approach)"
   ]
  },
  {
   "cell_type": "code",
   "execution_count": 11,
   "id": "50874e14-6145-45c0-a829-22a41f2a81e5",
   "metadata": {},
   "outputs": [
    {
     "name": "stdout",
     "output_type": "stream",
     "text": [
      "Matrix Multiplication\n",
      "[9, 16, 21]\n",
      "[24, 25, 24]\n",
      "[21, 16, 9]\n",
      "\n",
      "Matrix Division\n",
      "[9, 16, 21]\n",
      "[24, 25, 24]\n",
      "[21, 16, 9]\n"
     ]
    }
   ],
   "source": [
    "X = [[1, 2, 3],[4, 5, 6], [7, 8, 9]]\n",
    "Y = [[9, 8, 7], [6, 5, 4], [3, 2, 1]]\n",
    "\n",
    "rmatrix = [[0, 0, 0], [0, 0, 0], [0, 0, 0]]\n",
    "\n",
    "for row in range(len(X)):\n",
    "\tfor column in range(len(X[0])):\n",
    "\t\trmatrix[row][column] = X[row][column] * Y[row][column]\n",
    "\t\t\n",
    "print(\"Matrix Multiplication\",)\n",
    "for r in rmatrix:\n",
    "\tprint(r)\n",
    "\t\t\n",
    "for i in range(len(X)):\n",
    "\tfor j in range(len(X[0])):\n",
    "\t\trmatrix[row][column] = X[row][column] // Y[row][column]\n",
    "\n",
    "print(\"\\nMatrix Division\",) \n",
    "for r in rmatrix:\n",
    "\tprint(r)\n"
   ]
  },
  {
   "cell_type": "markdown",
   "id": "92306ce3-0a2d-4d8c-b461-e77b1d35d27d",
   "metadata": {},
   "source": [
    "## Transpose Matrik (A^T)"
   ]
  },
  {
   "cell_type": "code",
   "execution_count": 12,
   "id": "03334717-11d3-4c29-9e97-160f6770963d",
   "metadata": {},
   "outputs": [
    {
     "name": "stdout",
     "output_type": "stream",
     "text": [
      "[9, 6, 3]\n",
      "[8, 5, 2]\n",
      "[7, 4, 1]\n"
     ]
    }
   ],
   "source": [
    "X = [[9, 8, 7], [6, 5, 4], [3, 2, 1]]\n",
    "\n",
    "result = [[0, 0, 0], [0, 0, 0], [0, 0, 0]]\n",
    "\n",
    "# iterate through rows\n",
    "for row in range(len(X)):\n",
    "\t# iterate through columns\n",
    "\tfor column in range(len(X[0])):\n",
    "\t\tresult[column][row] = X[row][column]\n",
    "\n",
    "for r in result:\n",
    "\tprint(r)\n",
    "\t\n",
    "# # Python Program to Transpose a Matrix using the list comprehension\n",
    "\n",
    "# rez = [[X[column][row] for column in range(len(X))] \n",
    "# for row in range(len(X[0]))]\n",
    "\n",
    "# for row in rez:\n",
    "#\t print(row)\n"
   ]
  }
 ],
 "metadata": {
  "kernelspec": {
   "display_name": "Python 3 (ipykernel)",
   "language": "python",
   "name": "python3"
  },
  "language_info": {
   "codemirror_mode": {
    "name": "ipython",
    "version": 3
   },
   "file_extension": ".py",
   "mimetype": "text/x-python",
   "name": "python",
   "nbconvert_exporter": "python",
   "pygments_lexer": "ipython3",
   "version": "3.11.8"
  },
  "widgets": {
   "application/vnd.jupyter.widget-state+json": {
    "state": {},
    "version_major": 2,
    "version_minor": 0
   }
  }
 },
 "nbformat": 4,
 "nbformat_minor": 5
}
